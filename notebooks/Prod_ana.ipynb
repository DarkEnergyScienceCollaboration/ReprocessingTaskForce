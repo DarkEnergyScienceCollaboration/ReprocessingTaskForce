{
 "cells": [
  {
   "cell_type": "code",
   "execution_count": 9,
   "metadata": {
    "collapsed": false
   },
   "outputs": [],
   "source": [
    "import os\n",
    "import sys\n",
    "import subprocess\n",
    "import re\n",
    "from astropy.time import Time\n",
    "from datetime import datetime\n",
    "\n",
    "#cluster = 'MACSJ2243.3-0935'\n",
    "#cluster = 'CL0016+16'\n",
    "cluster = '3C295'\n",
    "\n",
    "top = '/sps/lsst/dev/lsstprod/clusters'\n",
    "\n",
    "filters = ['u', 'g', 'r', 'i', 'z']\n",
    "\n",
    "steps = ['processCcd', 'makeCoaddTempExp', 'assembleCoadd', 'detectCoaddSources', 'mergeCoaddDetections',\n",
    "         'measureCoaddSources', 'mergeCoaddMeasurements', 'forcedPhotCoadd', 'forcedPhotCcd']\n",
    "#steps = ['processCcd']"
   ]
  },
  {
   "cell_type": "code",
   "execution_count": 10,
   "metadata": {
    "collapsed": false
   },
   "outputs": [
    {
     "name": "stdout",
     "output_type": "stream",
     "text": [
      "('Number of visits per filter :', ['25', '17', '21', '20', '13'])\n",
      "('Dataset size : ', '31G')\n",
      "('Calexp size : ', '301G')\n",
      "('deepCoadd size : ', '579G')\n",
      "('deepCoadd results size : ', '104G')\n",
      "('deepCoadd results merged size : ', '6,0G')\n"
     ]
    }
   ],
   "source": [
    "# number of visits\n",
    "\n",
    "path = os.path.join(top, cluster)\n",
    "\n",
    "visits = []\n",
    "for f in filters :\n",
    "    cmd = 'wc -l ' + path + '/utils/processCcd/' + f + '.list'\n",
    "    r = subprocess.check_output(cmd, shell=True).split(' ')[0]\n",
    "    visits.append(r)\n",
    "\n",
    "print(\"Number of visits per filter :\", visits)\n",
    "\n",
    "# Raw data size\n",
    "cmd = 'du -hs ' + path + '/rawDownload/'\n",
    "total_size = subprocess.check_output(cmd, shell=True).split('\\t')[0]\n",
    "print('Dataset size : ', total_size)\n",
    "\n",
    "# calexp\n",
    "cmd = 'du -hs '+ path + '/output/calexp/'\n",
    "size = subprocess.check_output(cmd, shell=True).split('\\t')[0]\n",
    "print('Calexp size : ', size)\n",
    "\n",
    "# deepCoadd\n",
    "cmd = 'du -hs '+ path + '/output/coadd_dir/deepCoadd/'\n",
    "size = subprocess.check_output(cmd, shell=True).split('\\t')[0]\n",
    "print('deepCoadd size : ', size)\n",
    "\n",
    "# deepCoadd-results\n",
    "cmd = 'du -hs '+ path + '/output/coadd_dir/deepCoadd-results/'\n",
    "size = subprocess.check_output(cmd, shell=True).split('\\t')[0]\n",
    "print('deepCoadd results size : ', size)\n",
    "\n",
    "# deepCoadd-results merged\n",
    "cmd = 'du -hs '+ path + '/output/coadd_dir/deepCoadd-results/merged/'\n",
    "size = subprocess.check_output(cmd, shell=True).split('\\t')[0]\n",
    "print('deepCoadd results merged size : ', size)"
   ]
  },
  {
   "cell_type": "code",
   "execution_count": 11,
   "metadata": {
    "collapsed": false
   },
   "outputs": [
    {
     "name": "stdout",
     "output_type": "stream",
     "text": [
      "processCcd : 52.0 371.7 715.2\n",
      "makeCoaddTempExp : 44.6 15.3 34.2\n",
      "assembleCoadd : 51.0 12.8 25.1\n",
      "detectCoaddSources : 1.6 1.2 74.4\n",
      "mergeCoaddDetections : 17.5 17.3 98.4\n",
      "measureCoaddSources : 156.2 215.9 138.2\n",
      "mergeCoaddMeasurements : 19.4 17.9 92.5\n",
      "forcedPhotCoadd : 26.0 19.8 76.3\n",
      "forcedPhotCcd : 179.4 175.0 97.5\n",
      "Total time : 547.8 846.8 154.6\n"
     ]
    }
   ],
   "source": [
    "# Time\n",
    "\n",
    "Time_elaps = []\n",
    "Time_cpu = []\n",
    "for task in steps :\n",
    "    elaps = 0.\n",
    "    cpu = 0.\n",
    "    for f in filters :\n",
    "        if task[0:5] == \"merge\" :\n",
    "            path = os.path.join(top, cluster, 'utils', task, 'log')\n",
    "        else :\n",
    "            path = os.path.join(top, cluster, 'utils', task, 'log', f)\n",
    "        log = os.listdir(path)\n",
    "        for l in log :\n",
    "            p = os.path.join(path, l)\n",
    "            fd = open(p, \"r\")\n",
    "        \n",
    "            for line in fd:\n",
    "                if re.search(\"JobID:\", line):\n",
    "                    jobId = line.split('JobID')[1].split('*')[0].split(':')[1].strip()\n",
    "                if re.search(\"Started on\", line):\n",
    "                    start = Time(datetime.strptime(line.split('Started on:')[1].split('*')[0].strip(), '%c'))\n",
    "                if re.search(\"cpu time:\", line):\n",
    "                    c = line.split('cpu time:')[1].split('*')[0].split('/')[0].strip()\n",
    "                if re.search(\"Ended on\", line):\n",
    "                    end = Time(datetime.strptime(line.split('Ended on:')[1].split('*')[0].strip(), '%c'))\n",
    "            diff = end - start\n",
    "            elaps += diff.sec\n",
    "            cpu += float(c)\n",
    "            \n",
    "            y = str(start).split('-')[0]\n",
    "            m = str(start).split('-')[1]\n",
    "#            acc_cmd = 'qacct -f /opt/sge/ccin2p3/common/accounting.' + y + '.' + m + ' -j ' + str(jobId)\n",
    "#            print acc_cmd\n",
    "#            r = subprocess.check_output(acc_cmd, shell=True)\n",
    "#            print r\n",
    "            \n",
    "            \n",
    "    print('%s : %.1f %.1f %.1f')%(task, elaps/3600, cpu/3600, 100*cpu/elaps)\n",
    "    Time_elaps.append(elaps)\n",
    "    Time_cpu.append(cpu)\n",
    "    \n",
    "print('Total time : %.1f %.1f %.1f')%(sum(Time_elaps)/3600, sum(Time_cpu)/3600, 100*sum(Time_cpu)/sum(Time_elaps))"
   ]
  },
  {
   "cell_type": "code",
   "execution_count": 120,
   "metadata": {
    "collapsed": false
   },
   "outputs": [
    {
     "name": "stdout",
     "output_type": "stream",
     "text": [
      "2309.0\n",
      "118.579471633\n"
     ]
    }
   ],
   "source": [
    "from astropy.time import Time\n",
    "from datetime import datetime\n",
    "\n",
    "a = \"Wed Aug 10 15:12:39 2016\"\n",
    "b = \"Wed Aug 10 15:51:08 2016\"\n",
    "aa = Time(datetime.strptime(a, '%c'))\n",
    "bb = Time(datetime.strptime(b, '%c'))\n",
    "\n",
    "delta = bb - aa\n",
    "print delta.sec\n",
    "print 100*2738/delta.sec"
   ]
  },
  {
   "cell_type": "code",
   "execution_count": 133,
   "metadata": {
    "collapsed": false
   },
   "outputs": [
    {
     "name": "stdout",
     "output_type": "stream",
     "text": [
      " Total time 1646.0725 1579.80083333\n"
     ]
    }
   ],
   "source": [
    "print 'Total time', sum(Time_elaps)/3600, sum(Time_cpu)/3600"
   ]
  },
  {
   "cell_type": "code",
   "execution_count": 20,
   "metadata": {
    "collapsed": false
   },
   "outputs": [
    {
     "name": "stdout",
     "output_type": "stream",
     "text": [
      "08\n"
     ]
    }
   ],
   "source": [
    "print str(start).split('-')[1]"
   ]
  },
  {
   "cell_type": "code",
   "execution_count": null,
   "metadata": {
    "collapsed": true
   },
   "outputs": [],
   "source": []
  }
 ],
 "metadata": {
  "kernelspec": {
   "display_name": "Python 2",
   "language": "python",
   "name": "python2"
  },
  "language_info": {
   "codemirror_mode": {
    "name": "ipython",
    "version": 2
   },
   "file_extension": ".py",
   "mimetype": "text/x-python",
   "name": "python",
   "nbconvert_exporter": "python",
   "pygments_lexer": "ipython2",
   "version": "2.7.12"
  }
 },
 "nbformat": 4,
 "nbformat_minor": 0
}
